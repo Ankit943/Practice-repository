{
 "cells": [
  {
   "cell_type": "code",
   "execution_count": 1,
   "id": "a89f549b",
   "metadata": {},
   "outputs": [],
   "source": [
    "a=10\n"
   ]
  },
  {
   "cell_type": "code",
   "execution_count": 2,
   "id": "9b933401",
   "metadata": {},
   "outputs": [],
   "source": [
    "b=10"
   ]
  },
  {
   "cell_type": "markdown",
   "id": "e9c63b9f",
   "metadata": {},
   "source": [
    "# Project-1"
   ]
  },
  {
   "cell_type": "code",
   "execution_count": null,
   "id": "d3e3597b",
   "metadata": {},
   "outputs": [],
   "source": []
  }
 ],
 "metadata": {
  "kernelspec": {
   "display_name": "Python 3",
   "language": "python",
   "name": "python3"
  },
  "language_info": {
   "codemirror_mode": {
    "name": "ipython",
    "version": 3
   },
   "file_extension": ".py",
   "mimetype": "text/x-python",
   "name": "python",
   "nbconvert_exporter": "python",
   "pygments_lexer": "ipython3",
   "version": "3.8.8"
  }
 },
 "nbformat": 4,
 "nbformat_minor": 5
}
